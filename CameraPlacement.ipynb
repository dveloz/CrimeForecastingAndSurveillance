{
 "metadata": {
  "language_info": {
   "codemirror_mode": {
    "name": "ipython",
    "version": 3
   },
   "file_extension": ".py",
   "mimetype": "text/x-python",
   "name": "python",
   "nbconvert_exporter": "python",
   "pygments_lexer": "ipython3",
   "version": "3.8.5-final"
  },
  "orig_nbformat": 2,
  "kernelspec": {
   "name": "python3",
   "display_name": "Python 3.8.5 64-bit (conda)",
   "metadata": {
    "interpreter": {
     "hash": "fbc3733bebacf1ca2f4fa31d8640f1270e10f16a1db3bd912b1c328029085d5f"
    }
   }
  }
 },
 "nbformat": 4,
 "nbformat_minor": 2,
 "cells": [
  {
   "cell_type": "code",
   "execution_count": 105,
   "metadata": {},
   "outputs": [],
   "source": [
    "import numpy as np\n",
    "import pandas as pd"
   ]
  },
  {
   "cell_type": "code",
   "execution_count": 106,
   "metadata": {},
   "outputs": [],
   "source": [
    "crime = pd.read_csv(\"datalab copy.csv\", index_col = 0)"
   ]
  },
  {
   "cell_type": "code",
   "execution_count": 107,
   "metadata": {},
   "outputs": [
    {
     "output_type": "stream",
     "name": "stdout",
     "text": [
      "  FechaInicio                                           Delito  \\\n1  20/12/2019             ROBO A CASA HABITACION SIN VIOLENCIA   \n2  20/12/2019                LESIONES INTENCIONALES POR GOLPES   \n3  20/12/2019                 DESAPARICION FORZADA DE PERSONAS   \n4  20/12/2019  DAÑO EN PROPIEDAD AJENA INTENCIONAL A AUTOMOVIL   \n5  20/12/2019                               VIOLENCIA FAMILIAR   \n\n                Categoria       Sexo  Edad        CalidadJuridica  FechaHecho  \\\n1  DELITO DE BAJO IMPACTO  Masculino   NaN  VICTIMA Y DENUNCIANTE  19/12/2019   \n2  DELITO DE BAJO IMPACTO  Masculino   NaN  VICTIMA Y DENUNCIANTE  19/12/2019   \n3  DELITO DE BAJO IMPACTO  Masculino  36.0                VICTIMA  19/12/2019   \n4  DELITO DE BAJO IMPACTO   Femenino   NaN  VICTIMA Y DENUNCIANTE  01/12/2019   \n5  DELITO DE BAJO IMPACTO   Femenino  24.0  VICTIMA Y DENUNCIANTE  20/12/2019   \n\n  HoraHecho HoraInicio                      geopoint         AlcaldiaHechos  \\\n1  16:00:00   03:26:00      19.367423897,-99.2002892         ALVARO OBREGON   \n2  17:00:00   03:50:00   19.132673472,-99.1848566757                TLALPAN   \n3  12:30:00   04:12:00  19.3800069441,-99.2121711759         ALVARO OBREGON   \n4  01:00:00   04:39:00  19.4403246412,-99.0972838597    VENUSTIANO CARRANZA   \n5  00:00:00   05:03:00   19.3738296017,-99.279684614  CUAJIMALPA DE MORELOS   \n\n            ColoniaHechos  persona_fisica  \n1       LOMAS DE PLATEROS            True  \n2        PARRES EL GUARDA            True  \n3  GOLONDRINAS 1A SECCIÓN            True  \n4            ROMERO RUBIO            True  \n5              LA NAVIDAD            True  \n"
     ]
    }
   ],
   "source": [
    "print(crime.head())\n"
   ]
  },
  {
   "cell_type": "code",
   "execution_count": 108,
   "metadata": {},
   "outputs": [
    {
     "output_type": "stream",
     "name": "stdout",
     "text": [
      "['DELITO DE BAJO IMPACTO' 'ROBO DE VEHÍCULO CON Y SIN VIOLENCIA'\n 'HECHO NO DELICTIVO'\n 'ROBO A PASAJERO A BORDO DE MICROBUS CON Y SIN VIOLENCIA'\n 'ROBO A TRANSEUNTE EN VÍA PÚBLICA CON Y SIN VIOLENCIA'\n 'ROBO A PASAJERO A BORDO DEL METRO CON Y SIN VIOLENCIA'\n 'ROBO A CUENTAHABIENTE SALIENDO DEL CAJERO CON VIOLENCIA' 'VIOLACIÓN'\n 'ROBO A REPARTIDOR CON Y SIN VIOLENCIA' 'HOMICIDIO DOLOSO'\n 'ROBO A NEGOCIO CON VIOLENCIA'\n 'LESIONES DOLOSAS POR DISPARO DE ARMA DE FUEGO'\n 'ROBO A PASAJERO A BORDO DE TAXI CON VIOLENCIA'\n 'ROBO A CASA HABITACIÓN CON VIOLENCIA']\n"
     ]
    }
   ],
   "source": [
    "print(crime.Categoria.unique())"
   ]
  },
  {
   "cell_type": "code",
   "execution_count": 109,
   "metadata": {},
   "outputs": [],
   "source": [
    "# ['DELITO DE BAJO IMPACTO' 'ROBO DE VEHÍCULO CON Y SIN VIOLENCIA'\n",
    "#  'HECHO NO DELICTIVO'\n",
    "#  'ROBO A PASAJERO A BORDO DE MICROBUS CON Y SIN VIOLENCIA'\n",
    "#  'ROBO A TRANSEUNTE EN VÍA PÚBLICA CON Y SIN VIOLENCIA'\n",
    "#  'ROBO A PASAJERO A BORDO DEL METRO CON Y SIN VIOLENCIA'\n",
    "#  'ROBO A CUENTAHABIENTE SALIENDO DEL CAJERO CON VIOLENCIA' 'VIOLACIÓN'\n",
    "#  'ROBO A REPARTIDOR CON Y SIN VIOLENCIA' 'HOMICIDIO DOLOSO'\n",
    "#  'ROBO A NEGOCIO CON VIOLENCIA'\n",
    "#  'LESIONES DOLOSAS POR DISPARO DE ARMA DE FUEGO'\n",
    "#  'ROBO A PASAJERO A BORDO DE TAXI CON VIOLENCIA'\n",
    "#  'ROBO A CASA HABITACIÓN CON VIOLENCIA']\n",
    "delitos_ai = ['ROBO DE VEHÍCULO CON Y SIN VIOLENCIA','ROBO A PASAJERO A BORDO DE MICROBUS CON Y SIN VIOLENCIA','ROBO A TRANSEUNTE EN VÍA PÚBLICA CON Y SIN VIOLENCIA','ROBO A PASAJERO A BORDO DEL METRO CON Y SIN VIOLENCIA','ROBO A CUENTAHABIENTE SALIENDO DEL CAJERO CON VIOLENCIA','VIOLACIÓN','ROBO A REPARTIDOR CON Y SIN VIOLENCIA','HOMICIDIO DOLOSO','ROBO A NEGOCIO CON VIOLENCIA','LESIONES DOLOSAS POR DISPARO DE ARMA DE FUEGO','ROBO A PASAJERO A BORDO DE TAXI CON VIOLENCIA','ROBO A CASA HABITACIÓN CON VIOLENCIA']"
   ]
  },
  {
   "cell_type": "code",
   "execution_count": 110,
   "metadata": {},
   "outputs": [
    {
     "output_type": "execute_result",
     "data": {
      "text/plain": [
       "     FechaInicio                                             Delito  \\\n",
       "7     20/12/2019  ROBO DE VEHICULO DE SERVICIO PARTICULAR SIN VI...   \n",
       "12    20/12/2019  ROBO A PASAJERO A BORDO DE PESERO COLECTIVO CO...   \n",
       "15    20/12/2019  ROBO DE VEHICULO DE SERVICIO PARTICULAR SIN VI...   \n",
       "22    20/12/2019  ROBO DE VEHICULO DE SERVICIO PARTICULAR SIN VI...   \n",
       "31    20/12/2019     ROBO A TRANSEUNTE EN VIA PUBLICA CON VIOLENCIA   \n",
       "...          ...                                                ...   \n",
       "1482  30/12/2019     ROBO A TRANSEUNTE EN VIA PUBLICA CON VIOLENCIA   \n",
       "1490  30/12/2019     ROBO A TRANSEUNTE EN VIA PUBLICA CON VIOLENCIA   \n",
       "1494  30/12/2019  ROBO DE VEHICULO DE SERVICIO PARTICULAR SIN VI...   \n",
       "1496  30/12/2019     ROBO A TRANSEUNTE EN VIA PUBLICA CON VIOLENCIA   \n",
       "1497  30/12/2019     ROBO A TRANSEUNTE EN VIA PUBLICA CON VIOLENCIA   \n",
       "\n",
       "                                              Categoria       Sexo  Edad  \\\n",
       "7                  ROBO DE VEHÍCULO CON Y SIN VIOLENCIA  Masculino  53.0   \n",
       "12    ROBO A PASAJERO A BORDO DE MICROBUS CON Y SIN ...  Masculino  34.0   \n",
       "15                 ROBO DE VEHÍCULO CON Y SIN VIOLENCIA  Masculino  55.0   \n",
       "22                 ROBO DE VEHÍCULO CON Y SIN VIOLENCIA  Masculino  39.0   \n",
       "31    ROBO A TRANSEUNTE EN VÍA PÚBLICA CON Y SIN VIO...   Femenino  25.0   \n",
       "...                                                 ...        ...   ...   \n",
       "1482  ROBO A TRANSEUNTE EN VÍA PÚBLICA CON Y SIN VIO...  Masculino  59.0   \n",
       "1490  ROBO A TRANSEUNTE EN VÍA PÚBLICA CON Y SIN VIO...  Masculino  22.0   \n",
       "1494               ROBO DE VEHÍCULO CON Y SIN VIOLENCIA  Masculino  61.0   \n",
       "1496  ROBO A TRANSEUNTE EN VÍA PÚBLICA CON Y SIN VIO...  Masculino   NaN   \n",
       "1497  ROBO A TRANSEUNTE EN VÍA PÚBLICA CON Y SIN VIO...   Femenino   NaN   \n",
       "\n",
       "            CalidadJuridica  FechaHecho HoraHecho HoraInicio  \\\n",
       "7     VICTIMA Y DENUNCIANTE  18/12/2019  16:00:00   06:53:00   \n",
       "12    VICTIMA Y DENUNCIANTE  20/12/2019  07:00:00   09:28:00   \n",
       "15    VICTIMA Y DENUNCIANTE  17/12/2019  06:00:00   09:39:00   \n",
       "22    VICTIMA Y DENUNCIANTE  16/12/2019  00:00:00   10:37:00   \n",
       "31    VICTIMA Y DENUNCIANTE  20/12/2019  07:40:00   11:08:00   \n",
       "...                     ...         ...       ...        ...   \n",
       "1482  VICTIMA Y DENUNCIANTE  30/12/2019  19:30:00   20:39:00   \n",
       "1490  VICTIMA Y DENUNCIANTE  30/12/2019  14:15:00   21:50:00   \n",
       "1494  VICTIMA Y DENUNCIANTE  29/12/2019  21:35:00   22:28:00   \n",
       "1496  VICTIMA Y DENUNCIANTE  30/12/2019  20:48:00   22:33:00   \n",
       "1497  VICTIMA Y DENUNCIANTE  30/12/2019  20:48:00   22:33:00   \n",
       "\n",
       "                          geopoint          AlcaldiaHechos  \\\n",
       "7     19.5282905275,-99.1565738077        GUSTAVO A MADERO   \n",
       "12    19.3775720483,-99.2007773176          ALVARO OBREGON   \n",
       "15    19.4297197848,-99.0625958411     VENUSTIANO CARRANZA   \n",
       "22      19.3232514188,-99.21941098  LA MAGDALENA CONTRERAS   \n",
       "31    19.3403877016,-99.0492215798              IZTAPALAPA   \n",
       "...                            ...                     ...   \n",
       "1482  19.2599200993,-99.0097219999                 TLAHUAC   \n",
       "1490  19.3770748211,-99.2176050901          ALVARO OBREGON   \n",
       "1494  19.2963184998,-99.0565009999                 TLAHUAC   \n",
       "1496     19.4854763954,-99.1088016        GUSTAVO A MADERO   \n",
       "1497     19.4854763954,-99.1088016        GUSTAVO A MADERO   \n",
       "\n",
       "                           ColoniaHechos  persona_fisica  \n",
       "7     RESIDENCIAL ACUEDUCTO DE GUADALUPE            True  \n",
       "12                      MINAS CRISTO REY            True  \n",
       "15                   ARENAL PUERTO AÉREO            True  \n",
       "22                   SAN JERÓNIMO LÍDICE            True  \n",
       "31                 SANTA CRUZ MEYEHUALCO            True  \n",
       "...                                  ...             ...  \n",
       "1482                           LOS REYES            True  \n",
       "1490                     LOMAS DE CAPULA            True  \n",
       "1494                             DEL MAR            True  \n",
       "1496                      MARTÍN CARRERA            True  \n",
       "1497                      MARTÍN CARRERA            True  \n",
       "\n",
       "[257 rows x 13 columns]"
      ],
      "text/html": "<div>\n<style scoped>\n    .dataframe tbody tr th:only-of-type {\n        vertical-align: middle;\n    }\n\n    .dataframe tbody tr th {\n        vertical-align: top;\n    }\n\n    .dataframe thead th {\n        text-align: right;\n    }\n</style>\n<table border=\"1\" class=\"dataframe\">\n  <thead>\n    <tr style=\"text-align: right;\">\n      <th></th>\n      <th>FechaInicio</th>\n      <th>Delito</th>\n      <th>Categoria</th>\n      <th>Sexo</th>\n      <th>Edad</th>\n      <th>CalidadJuridica</th>\n      <th>FechaHecho</th>\n      <th>HoraHecho</th>\n      <th>HoraInicio</th>\n      <th>geopoint</th>\n      <th>AlcaldiaHechos</th>\n      <th>ColoniaHechos</th>\n      <th>persona_fisica</th>\n    </tr>\n  </thead>\n  <tbody>\n    <tr>\n      <th>7</th>\n      <td>20/12/2019</td>\n      <td>ROBO DE VEHICULO DE SERVICIO PARTICULAR SIN VI...</td>\n      <td>ROBO DE VEHÍCULO CON Y SIN VIOLENCIA</td>\n      <td>Masculino</td>\n      <td>53.0</td>\n      <td>VICTIMA Y DENUNCIANTE</td>\n      <td>18/12/2019</td>\n      <td>16:00:00</td>\n      <td>06:53:00</td>\n      <td>19.5282905275,-99.1565738077</td>\n      <td>GUSTAVO A MADERO</td>\n      <td>RESIDENCIAL ACUEDUCTO DE GUADALUPE</td>\n      <td>True</td>\n    </tr>\n    <tr>\n      <th>12</th>\n      <td>20/12/2019</td>\n      <td>ROBO A PASAJERO A BORDO DE PESERO COLECTIVO CO...</td>\n      <td>ROBO A PASAJERO A BORDO DE MICROBUS CON Y SIN ...</td>\n      <td>Masculino</td>\n      <td>34.0</td>\n      <td>VICTIMA Y DENUNCIANTE</td>\n      <td>20/12/2019</td>\n      <td>07:00:00</td>\n      <td>09:28:00</td>\n      <td>19.3775720483,-99.2007773176</td>\n      <td>ALVARO OBREGON</td>\n      <td>MINAS CRISTO REY</td>\n      <td>True</td>\n    </tr>\n    <tr>\n      <th>15</th>\n      <td>20/12/2019</td>\n      <td>ROBO DE VEHICULO DE SERVICIO PARTICULAR SIN VI...</td>\n      <td>ROBO DE VEHÍCULO CON Y SIN VIOLENCIA</td>\n      <td>Masculino</td>\n      <td>55.0</td>\n      <td>VICTIMA Y DENUNCIANTE</td>\n      <td>17/12/2019</td>\n      <td>06:00:00</td>\n      <td>09:39:00</td>\n      <td>19.4297197848,-99.0625958411</td>\n      <td>VENUSTIANO CARRANZA</td>\n      <td>ARENAL PUERTO AÉREO</td>\n      <td>True</td>\n    </tr>\n    <tr>\n      <th>22</th>\n      <td>20/12/2019</td>\n      <td>ROBO DE VEHICULO DE SERVICIO PARTICULAR SIN VI...</td>\n      <td>ROBO DE VEHÍCULO CON Y SIN VIOLENCIA</td>\n      <td>Masculino</td>\n      <td>39.0</td>\n      <td>VICTIMA Y DENUNCIANTE</td>\n      <td>16/12/2019</td>\n      <td>00:00:00</td>\n      <td>10:37:00</td>\n      <td>19.3232514188,-99.21941098</td>\n      <td>LA MAGDALENA CONTRERAS</td>\n      <td>SAN JERÓNIMO LÍDICE</td>\n      <td>True</td>\n    </tr>\n    <tr>\n      <th>31</th>\n      <td>20/12/2019</td>\n      <td>ROBO A TRANSEUNTE EN VIA PUBLICA CON VIOLENCIA</td>\n      <td>ROBO A TRANSEUNTE EN VÍA PÚBLICA CON Y SIN VIO...</td>\n      <td>Femenino</td>\n      <td>25.0</td>\n      <td>VICTIMA Y DENUNCIANTE</td>\n      <td>20/12/2019</td>\n      <td>07:40:00</td>\n      <td>11:08:00</td>\n      <td>19.3403877016,-99.0492215798</td>\n      <td>IZTAPALAPA</td>\n      <td>SANTA CRUZ MEYEHUALCO</td>\n      <td>True</td>\n    </tr>\n    <tr>\n      <th>...</th>\n      <td>...</td>\n      <td>...</td>\n      <td>...</td>\n      <td>...</td>\n      <td>...</td>\n      <td>...</td>\n      <td>...</td>\n      <td>...</td>\n      <td>...</td>\n      <td>...</td>\n      <td>...</td>\n      <td>...</td>\n      <td>...</td>\n    </tr>\n    <tr>\n      <th>1482</th>\n      <td>30/12/2019</td>\n      <td>ROBO A TRANSEUNTE EN VIA PUBLICA CON VIOLENCIA</td>\n      <td>ROBO A TRANSEUNTE EN VÍA PÚBLICA CON Y SIN VIO...</td>\n      <td>Masculino</td>\n      <td>59.0</td>\n      <td>VICTIMA Y DENUNCIANTE</td>\n      <td>30/12/2019</td>\n      <td>19:30:00</td>\n      <td>20:39:00</td>\n      <td>19.2599200993,-99.0097219999</td>\n      <td>TLAHUAC</td>\n      <td>LOS REYES</td>\n      <td>True</td>\n    </tr>\n    <tr>\n      <th>1490</th>\n      <td>30/12/2019</td>\n      <td>ROBO A TRANSEUNTE EN VIA PUBLICA CON VIOLENCIA</td>\n      <td>ROBO A TRANSEUNTE EN VÍA PÚBLICA CON Y SIN VIO...</td>\n      <td>Masculino</td>\n      <td>22.0</td>\n      <td>VICTIMA Y DENUNCIANTE</td>\n      <td>30/12/2019</td>\n      <td>14:15:00</td>\n      <td>21:50:00</td>\n      <td>19.3770748211,-99.2176050901</td>\n      <td>ALVARO OBREGON</td>\n      <td>LOMAS DE CAPULA</td>\n      <td>True</td>\n    </tr>\n    <tr>\n      <th>1494</th>\n      <td>30/12/2019</td>\n      <td>ROBO DE VEHICULO DE SERVICIO PARTICULAR SIN VI...</td>\n      <td>ROBO DE VEHÍCULO CON Y SIN VIOLENCIA</td>\n      <td>Masculino</td>\n      <td>61.0</td>\n      <td>VICTIMA Y DENUNCIANTE</td>\n      <td>29/12/2019</td>\n      <td>21:35:00</td>\n      <td>22:28:00</td>\n      <td>19.2963184998,-99.0565009999</td>\n      <td>TLAHUAC</td>\n      <td>DEL MAR</td>\n      <td>True</td>\n    </tr>\n    <tr>\n      <th>1496</th>\n      <td>30/12/2019</td>\n      <td>ROBO A TRANSEUNTE EN VIA PUBLICA CON VIOLENCIA</td>\n      <td>ROBO A TRANSEUNTE EN VÍA PÚBLICA CON Y SIN VIO...</td>\n      <td>Masculino</td>\n      <td>NaN</td>\n      <td>VICTIMA Y DENUNCIANTE</td>\n      <td>30/12/2019</td>\n      <td>20:48:00</td>\n      <td>22:33:00</td>\n      <td>19.4854763954,-99.1088016</td>\n      <td>GUSTAVO A MADERO</td>\n      <td>MARTÍN CARRERA</td>\n      <td>True</td>\n    </tr>\n    <tr>\n      <th>1497</th>\n      <td>30/12/2019</td>\n      <td>ROBO A TRANSEUNTE EN VIA PUBLICA CON VIOLENCIA</td>\n      <td>ROBO A TRANSEUNTE EN VÍA PÚBLICA CON Y SIN VIO...</td>\n      <td>Femenino</td>\n      <td>NaN</td>\n      <td>VICTIMA Y DENUNCIANTE</td>\n      <td>30/12/2019</td>\n      <td>20:48:00</td>\n      <td>22:33:00</td>\n      <td>19.4854763954,-99.1088016</td>\n      <td>GUSTAVO A MADERO</td>\n      <td>MARTÍN CARRERA</td>\n      <td>True</td>\n    </tr>\n  </tbody>\n</table>\n<p>257 rows × 13 columns</p>\n</div>"
     },
     "metadata": {},
     "execution_count": 110
    }
   ],
   "source": [
    "crime[crime['Categoria'].isin(delitos_ai)]\n"
   ]
  },
  {
   "cell_type": "code",
   "execution_count": 111,
   "metadata": {},
   "outputs": [
    {
     "output_type": "stream",
     "name": "stdout",
     "text": [
      "1        19.367423897,-99.2002892\n2     19.132673472,-99.1848566757\n3    19.3800069441,-99.2121711759\n4    19.4403246412,-99.0972838597\n5     19.3738296017,-99.279684614\nName: geopoint, dtype: object\n"
     ]
    }
   ],
   "source": [
    "crime_geopoints = crime[\"geopoint\"]\n",
    "print(crime_geopoints.head())"
   ]
  },
  {
   "cell_type": "code",
   "execution_count": 112,
   "metadata": {},
   "outputs": [
    {
     "output_type": "stream",
     "name": "stdout",
     "text": [
      "            lat        lon\n1     19.367424 -99.200289\n2     19.132673 -99.184857\n3     19.380007 -99.212171\n4     19.440325 -99.097284\n5     19.373830 -99.279685\n...         ...        ...\n1496  19.485476 -99.108802\n1497  19.485476 -99.108802\n1498  19.324912 -99.163621\n1499  19.466045 -99.143249\n1500  19.487584 -99.133306\n\n[1500 rows x 2 columns]\n"
     ]
    }
   ],
   "source": [
    "crime_geopoints = crime_geopoints.str.split(pat=\",\",n = 2, expand = True)\n",
    "crime_geopoints.columns = ['lat', 'lon']\n",
    "crime_geopoints = crime_geopoints.astype(float)\n",
    "print(crime_geopoints)"
   ]
  },
  {
   "cell_type": "code",
   "execution_count": 116,
   "metadata": {},
   "outputs": [
    {
     "output_type": "stream",
     "name": "stdout",
     "text": [
      "[ 19.13267347  19.57779898 -99.3353306  -98.96434174]\n"
     ]
    }
   ],
   "source": [
    "bounds = np.array([crime_geopoints.lat.min(),crime_geopoints.lat.max(),crime_geopoints.lon.min(),crime_geopoints.lon.max()])\n",
    "print(bounds)\n",
    "\n"
   ]
  },
  {
   "cell_type": "code",
   "execution_count": null,
   "metadata": {},
   "outputs": [],
   "source": []
  }
 ]
}